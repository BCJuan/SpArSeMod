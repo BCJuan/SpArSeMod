{
 "cells": [
  {
   "cell_type": "code",
   "execution_count": 5,
   "metadata": {},
   "outputs": [],
   "source": [
    "import pandas as pd\n",
    "import numpy as np\n",
    "import matplotlib.pyplot as plt"
   ]
  },
  {
   "cell_type": "markdown",
   "metadata": {},
   "source": [
    "# Reading results .csv"
   ]
  },
  {
   "cell_type": "markdown",
   "metadata": {},
   "source": [
    "First, we open the csv"
   ]
  },
  {
   "cell_type": "code",
   "execution_count": 2,
   "metadata": {},
   "outputs": [],
   "source": [
    "data = pd.read_csv(\"./experiment_stages.csv\", index_col=0)"
   ]
  },
  {
   "cell_type": "code",
   "execution_count": 3,
   "metadata": {},
   "outputs": [
    {
     "data": {
      "text/html": [
       "<div>\n",
       "<style scoped>\n",
       "    .dataframe tbody tr th:only-of-type {\n",
       "        vertical-align: middle;\n",
       "    }\n",
       "\n",
       "    .dataframe tbody tr th {\n",
       "        vertical-align: top;\n",
       "    }\n",
       "\n",
       "    .dataframe thead th {\n",
       "        text-align: right;\n",
       "    }\n",
       "</style>\n",
       "<table border=\"1\" class=\"dataframe\">\n",
       "  <thead>\n",
       "    <tr style=\"text-align: right;\">\n",
       "      <th></th>\n",
       "      <th>arm_name</th>\n",
       "      <th>metric_name</th>\n",
       "      <th>mean</th>\n",
       "      <th>sem</th>\n",
       "      <th>trial_index</th>\n",
       "    </tr>\n",
       "  </thead>\n",
       "  <tbody>\n",
       "    <tr>\n",
       "      <th>0</th>\n",
       "      <td>0_0</td>\n",
       "      <td>accuracy</td>\n",
       "      <td>0.795562</td>\n",
       "      <td>0.0</td>\n",
       "      <td>0</td>\n",
       "    </tr>\n",
       "    <tr>\n",
       "      <th>1</th>\n",
       "      <td>0_0</td>\n",
       "      <td>weight</td>\n",
       "      <td>0.701442</td>\n",
       "      <td>0.0</td>\n",
       "      <td>0</td>\n",
       "    </tr>\n",
       "    <tr>\n",
       "      <th>2</th>\n",
       "      <td>0_0</td>\n",
       "      <td>ram</td>\n",
       "      <td>0.703689</td>\n",
       "      <td>0.0</td>\n",
       "      <td>0</td>\n",
       "    </tr>\n",
       "    <tr>\n",
       "      <th>3</th>\n",
       "      <td>0_0</td>\n",
       "      <td>latency</td>\n",
       "      <td>0.600640</td>\n",
       "      <td>0.0</td>\n",
       "      <td>0</td>\n",
       "    </tr>\n",
       "    <tr>\n",
       "      <th>4</th>\n",
       "      <td>1_0</td>\n",
       "      <td>accuracy</td>\n",
       "      <td>0.706125</td>\n",
       "      <td>0.0</td>\n",
       "      <td>1</td>\n",
       "    </tr>\n",
       "    <tr>\n",
       "      <th>...</th>\n",
       "      <td>...</td>\n",
       "      <td>...</td>\n",
       "      <td>...</td>\n",
       "      <td>...</td>\n",
       "      <td>...</td>\n",
       "    </tr>\n",
       "    <tr>\n",
       "      <th>3515</th>\n",
       "      <td>898_0</td>\n",
       "      <td>latency</td>\n",
       "      <td>0.327915</td>\n",
       "      <td>0.0</td>\n",
       "      <td>898</td>\n",
       "    </tr>\n",
       "    <tr>\n",
       "      <th>3516</th>\n",
       "      <td>899_0</td>\n",
       "      <td>accuracy</td>\n",
       "      <td>0.598378</td>\n",
       "      <td>0.0</td>\n",
       "      <td>899</td>\n",
       "    </tr>\n",
       "    <tr>\n",
       "      <th>3517</th>\n",
       "      <td>899_0</td>\n",
       "      <td>weight</td>\n",
       "      <td>0.581171</td>\n",
       "      <td>0.0</td>\n",
       "      <td>899</td>\n",
       "    </tr>\n",
       "    <tr>\n",
       "      <th>3518</th>\n",
       "      <td>899_0</td>\n",
       "      <td>ram</td>\n",
       "      <td>0.546563</td>\n",
       "      <td>0.0</td>\n",
       "      <td>899</td>\n",
       "    </tr>\n",
       "    <tr>\n",
       "      <th>3519</th>\n",
       "      <td>899_0</td>\n",
       "      <td>latency</td>\n",
       "      <td>0.335387</td>\n",
       "      <td>0.0</td>\n",
       "      <td>899</td>\n",
       "    </tr>\n",
       "  </tbody>\n",
       "</table>\n",
       "<p>3520 rows × 5 columns</p>\n",
       "</div>"
      ],
      "text/plain": [
       "     arm_name metric_name      mean  sem  trial_index\n",
       "0         0_0    accuracy  0.795562  0.0            0\n",
       "1         0_0      weight  0.701442  0.0            0\n",
       "2         0_0         ram  0.703689  0.0            0\n",
       "3         0_0     latency  0.600640  0.0            0\n",
       "4         1_0    accuracy  0.706125  0.0            1\n",
       "...       ...         ...       ...  ...          ...\n",
       "3515    898_0     latency  0.327915  0.0          898\n",
       "3516    899_0    accuracy  0.598378  0.0          899\n",
       "3517    899_0      weight  0.581171  0.0          899\n",
       "3518    899_0         ram  0.546563  0.0          899\n",
       "3519    899_0     latency  0.335387  0.0          899\n",
       "\n",
       "[3520 rows x 5 columns]"
      ]
     },
     "execution_count": 3,
     "metadata": {},
     "output_type": "execute_result"
    }
   ],
   "source": [
    "data"
   ]
  },
  {
   "cell_type": "markdown",
   "metadata": {},
   "source": [
    "## Reoder by arm"
   ]
  },
  {
   "cell_type": "markdown",
   "metadata": {},
   "source": [
    "We need to reorder it to be able to group different performances in one row and by arm"
   ]
  },
  {
   "cell_type": "code",
   "execution_count": 4,
   "metadata": {},
   "outputs": [],
   "source": [
    "data_use = data.pivot(columns='metric_name', values='mean',\n",
    "                         index='arm_name')"
   ]
  },
  {
   "cell_type": "code",
   "execution_count": 5,
   "metadata": {},
   "outputs": [
    {
     "data": {
      "text/html": [
       "<div>\n",
       "<style scoped>\n",
       "    .dataframe tbody tr th:only-of-type {\n",
       "        vertical-align: middle;\n",
       "    }\n",
       "\n",
       "    .dataframe tbody tr th {\n",
       "        vertical-align: top;\n",
       "    }\n",
       "\n",
       "    .dataframe thead th {\n",
       "        text-align: right;\n",
       "    }\n",
       "</style>\n",
       "<table border=\"1\" class=\"dataframe\">\n",
       "  <thead>\n",
       "    <tr style=\"text-align: right;\">\n",
       "      <th>metric_name</th>\n",
       "      <th>accuracy</th>\n",
       "      <th>latency</th>\n",
       "      <th>ram</th>\n",
       "      <th>weight</th>\n",
       "    </tr>\n",
       "    <tr>\n",
       "      <th>arm_name</th>\n",
       "      <th></th>\n",
       "      <th></th>\n",
       "      <th></th>\n",
       "      <th></th>\n",
       "    </tr>\n",
       "  </thead>\n",
       "  <tbody>\n",
       "    <tr>\n",
       "      <th>0_0</th>\n",
       "      <td>0.795562</td>\n",
       "      <td>0.600640</td>\n",
       "      <td>0.703689</td>\n",
       "      <td>0.701442</td>\n",
       "    </tr>\n",
       "    <tr>\n",
       "      <th>100_0</th>\n",
       "      <td>0.661357</td>\n",
       "      <td>0.452087</td>\n",
       "      <td>0.556115</td>\n",
       "      <td>0.591458</td>\n",
       "    </tr>\n",
       "    <tr>\n",
       "      <th>101_0</th>\n",
       "      <td>0.754984</td>\n",
       "      <td>0.572030</td>\n",
       "      <td>0.680436</td>\n",
       "      <td>0.683750</td>\n",
       "    </tr>\n",
       "    <tr>\n",
       "      <th>102_0</th>\n",
       "      <td>0.759577</td>\n",
       "      <td>0.667570</td>\n",
       "      <td>0.684806</td>\n",
       "      <td>0.715898</td>\n",
       "    </tr>\n",
       "    <tr>\n",
       "      <th>103_0</th>\n",
       "      <td>0.757547</td>\n",
       "      <td>0.528259</td>\n",
       "      <td>0.619019</td>\n",
       "      <td>0.657079</td>\n",
       "    </tr>\n",
       "    <tr>\n",
       "      <th>...</th>\n",
       "      <td>...</td>\n",
       "      <td>...</td>\n",
       "      <td>...</td>\n",
       "      <td>...</td>\n",
       "    </tr>\n",
       "    <tr>\n",
       "      <th>96_0</th>\n",
       "      <td>0.790015</td>\n",
       "      <td>0.639732</td>\n",
       "      <td>0.720727</td>\n",
       "      <td>0.722822</td>\n",
       "    </tr>\n",
       "    <tr>\n",
       "      <th>97_0</th>\n",
       "      <td>0.767722</td>\n",
       "      <td>0.732089</td>\n",
       "      <td>0.689055</td>\n",
       "      <td>0.712722</td>\n",
       "    </tr>\n",
       "    <tr>\n",
       "      <th>98_0</th>\n",
       "      <td>0.722385</td>\n",
       "      <td>0.493155</td>\n",
       "      <td>0.607247</td>\n",
       "      <td>0.639543</td>\n",
       "    </tr>\n",
       "    <tr>\n",
       "      <th>99_0</th>\n",
       "      <td>0.758130</td>\n",
       "      <td>0.652381</td>\n",
       "      <td>0.708979</td>\n",
       "      <td>0.715937</td>\n",
       "    </tr>\n",
       "    <tr>\n",
       "      <th>9_0</th>\n",
       "      <td>0.838108</td>\n",
       "      <td>0.573182</td>\n",
       "      <td>0.686754</td>\n",
       "      <td>0.689862</td>\n",
       "    </tr>\n",
       "  </tbody>\n",
       "</table>\n",
       "<p>880 rows × 4 columns</p>\n",
       "</div>"
      ],
      "text/plain": [
       "metric_name  accuracy   latency       ram    weight\n",
       "arm_name                                           \n",
       "0_0          0.795562  0.600640  0.703689  0.701442\n",
       "100_0        0.661357  0.452087  0.556115  0.591458\n",
       "101_0        0.754984  0.572030  0.680436  0.683750\n",
       "102_0        0.759577  0.667570  0.684806  0.715898\n",
       "103_0        0.757547  0.528259  0.619019  0.657079\n",
       "...               ...       ...       ...       ...\n",
       "96_0         0.790015  0.639732  0.720727  0.722822\n",
       "97_0         0.767722  0.732089  0.689055  0.712722\n",
       "98_0         0.722385  0.493155  0.607247  0.639543\n",
       "99_0         0.758130  0.652381  0.708979  0.715937\n",
       "9_0          0.838108  0.573182  0.686754  0.689862\n",
       "\n",
       "[880 rows x 4 columns]"
      ]
     },
     "execution_count": 5,
     "metadata": {},
     "output_type": "execute_result"
    }
   ],
   "source": [
    "data_use"
   ]
  },
  {
   "cell_type": "markdown",
   "metadata": {},
   "source": [
    "## DeStandardize"
   ]
  },
  {
   "cell_type": "markdown",
   "metadata": {},
   "source": [
    "As we can see results are grouped by arm but we have a problem, they are still in relative values. SpArSeMoD uses sntardardizers internally to place the performance metrics in the same range (approx [0, 1]). To ungroup them we must know the standardization procedure, which is \n",
    "\n",
    "$$\n",
    "standardized value = \\frac{\\log(real value)}{\\log(standardization value)}\n",
    "$$\n",
    "\n",
    "where the standardization value depends on the metric.\n",
    "\n",
    "+ Model Size: $10^8$\n",
    "+ Working memory $10^8$\n",
    "+ Latency $10^4$\n",
    "\n",
    "Hence to recover the original value we have to isolate the real value in the last equation and we will obtain real values for all these metrics. Accuracy has no standardization. With this we will recover the number of parameters.\n",
    "\n",
    "Then depending that we consider if 8 bit data types or 32-float, we will use a different conversion.\n",
    "\n",
    "In the case or model size ('weight') and working memory ('ram'), we can proceed to suppose that they are 8-bit parameters and convert them to kilobytes, by dividing by 1024.\n",
    "\n"
   ]
  },
  {
   "cell_type": "code",
   "execution_count": 6,
   "metadata": {},
   "outputs": [],
   "source": [
    "data_use['real_weight'] = np.exp(data_use['weight']*np.log(10**8))*8/8/1024\n",
    "data_use['real_ram'] = np.exp(data_use['ram']*np.log(10**8))*8/8/1024\n",
    "data_use['real_latency'] = np.exp(data_use['latency']*np.log(10**4) + 1)"
   ]
  },
  {
   "cell_type": "code",
   "execution_count": 7,
   "metadata": {},
   "outputs": [
    {
     "data": {
      "text/html": [
       "<div>\n",
       "<style scoped>\n",
       "    .dataframe tbody tr th:only-of-type {\n",
       "        vertical-align: middle;\n",
       "    }\n",
       "\n",
       "    .dataframe tbody tr th {\n",
       "        vertical-align: top;\n",
       "    }\n",
       "\n",
       "    .dataframe thead th {\n",
       "        text-align: right;\n",
       "    }\n",
       "</style>\n",
       "<table border=\"1\" class=\"dataframe\">\n",
       "  <thead>\n",
       "    <tr style=\"text-align: right;\">\n",
       "      <th>metric_name</th>\n",
       "      <th>accuracy</th>\n",
       "      <th>latency</th>\n",
       "      <th>ram</th>\n",
       "      <th>weight</th>\n",
       "      <th>real_weight</th>\n",
       "      <th>real_ram</th>\n",
       "      <th>real_latency</th>\n",
       "    </tr>\n",
       "    <tr>\n",
       "      <th>arm_name</th>\n",
       "      <th></th>\n",
       "      <th></th>\n",
       "      <th></th>\n",
       "      <th></th>\n",
       "      <th></th>\n",
       "      <th></th>\n",
       "      <th></th>\n",
       "    </tr>\n",
       "  </thead>\n",
       "  <tbody>\n",
       "    <tr>\n",
       "      <th>0_0</th>\n",
       "      <td>0.795562</td>\n",
       "      <td>0.600640</td>\n",
       "      <td>0.703689</td>\n",
       "      <td>0.701442</td>\n",
       "      <td>399.244141</td>\n",
       "      <td>416.117188</td>\n",
       "      <td>686.835201</td>\n",
       "    </tr>\n",
       "    <tr>\n",
       "      <th>100_0</th>\n",
       "      <td>0.661357</td>\n",
       "      <td>0.452087</td>\n",
       "      <td>0.556115</td>\n",
       "      <td>0.591458</td>\n",
       "      <td>52.645508</td>\n",
       "      <td>27.455078</td>\n",
       "      <td>174.840703</td>\n",
       "    </tr>\n",
       "    <tr>\n",
       "      <th>101_0</th>\n",
       "      <td>0.754984</td>\n",
       "      <td>0.572030</td>\n",
       "      <td>0.680436</td>\n",
       "      <td>0.683750</td>\n",
       "      <td>288.205078</td>\n",
       "      <td>271.136719</td>\n",
       "      <td>527.732875</td>\n",
       "    </tr>\n",
       "    <tr>\n",
       "      <th>102_0</th>\n",
       "      <td>0.759577</td>\n",
       "      <td>0.667570</td>\n",
       "      <td>0.684806</td>\n",
       "      <td>0.715898</td>\n",
       "      <td>521.052734</td>\n",
       "      <td>293.867187</td>\n",
       "      <td>1272.259462</td>\n",
       "    </tr>\n",
       "    <tr>\n",
       "      <th>103_0</th>\n",
       "      <td>0.757547</td>\n",
       "      <td>0.528259</td>\n",
       "      <td>0.619019</td>\n",
       "      <td>0.657079</td>\n",
       "      <td>176.331055</td>\n",
       "      <td>87.467773</td>\n",
       "      <td>352.640357</td>\n",
       "    </tr>\n",
       "    <tr>\n",
       "      <th>...</th>\n",
       "      <td>...</td>\n",
       "      <td>...</td>\n",
       "      <td>...</td>\n",
       "      <td>...</td>\n",
       "      <td>...</td>\n",
       "      <td>...</td>\n",
       "      <td>...</td>\n",
       "    </tr>\n",
       "    <tr>\n",
       "      <th>96_0</th>\n",
       "      <td>0.790015</td>\n",
       "      <td>0.639732</td>\n",
       "      <td>0.720727</td>\n",
       "      <td>0.722822</td>\n",
       "      <td>591.936523</td>\n",
       "      <td>569.524414</td>\n",
       "      <td>984.514618</td>\n",
       "    </tr>\n",
       "    <tr>\n",
       "      <th>97_0</th>\n",
       "      <td>0.767722</td>\n",
       "      <td>0.732089</td>\n",
       "      <td>0.689055</td>\n",
       "      <td>0.712722</td>\n",
       "      <td>491.443359</td>\n",
       "      <td>317.789063</td>\n",
       "      <td>2304.890761</td>\n",
       "    </tr>\n",
       "    <tr>\n",
       "      <th>98_0</th>\n",
       "      <td>0.722385</td>\n",
       "      <td>0.493155</td>\n",
       "      <td>0.607247</td>\n",
       "      <td>0.639543</td>\n",
       "      <td>127.656250</td>\n",
       "      <td>70.416992</td>\n",
       "      <td>255.220262</td>\n",
       "    </tr>\n",
       "    <tr>\n",
       "      <th>99_0</th>\n",
       "      <td>0.758130</td>\n",
       "      <td>0.652381</td>\n",
       "      <td>0.708979</td>\n",
       "      <td>0.715937</td>\n",
       "      <td>521.431641</td>\n",
       "      <td>458.701172</td>\n",
       "      <td>1106.158681</td>\n",
       "    </tr>\n",
       "    <tr>\n",
       "      <th>9_0</th>\n",
       "      <td>0.838108</td>\n",
       "      <td>0.573182</td>\n",
       "      <td>0.686754</td>\n",
       "      <td>0.689862</td>\n",
       "      <td>322.550781</td>\n",
       "      <td>304.603516</td>\n",
       "      <td>533.361417</td>\n",
       "    </tr>\n",
       "  </tbody>\n",
       "</table>\n",
       "<p>880 rows × 7 columns</p>\n",
       "</div>"
      ],
      "text/plain": [
       "metric_name  accuracy   latency       ram    weight  real_weight    real_ram  \\\n",
       "arm_name                                                                       \n",
       "0_0          0.795562  0.600640  0.703689  0.701442   399.244141  416.117188   \n",
       "100_0        0.661357  0.452087  0.556115  0.591458    52.645508   27.455078   \n",
       "101_0        0.754984  0.572030  0.680436  0.683750   288.205078  271.136719   \n",
       "102_0        0.759577  0.667570  0.684806  0.715898   521.052734  293.867187   \n",
       "103_0        0.757547  0.528259  0.619019  0.657079   176.331055   87.467773   \n",
       "...               ...       ...       ...       ...          ...         ...   \n",
       "96_0         0.790015  0.639732  0.720727  0.722822   591.936523  569.524414   \n",
       "97_0         0.767722  0.732089  0.689055  0.712722   491.443359  317.789063   \n",
       "98_0         0.722385  0.493155  0.607247  0.639543   127.656250   70.416992   \n",
       "99_0         0.758130  0.652381  0.708979  0.715937   521.431641  458.701172   \n",
       "9_0          0.838108  0.573182  0.686754  0.689862   322.550781  304.603516   \n",
       "\n",
       "metric_name  real_latency  \n",
       "arm_name                   \n",
       "0_0            686.835201  \n",
       "100_0          174.840703  \n",
       "101_0          527.732875  \n",
       "102_0         1272.259462  \n",
       "103_0          352.640357  \n",
       "...                   ...  \n",
       "96_0           984.514618  \n",
       "97_0          2304.890761  \n",
       "98_0           255.220262  \n",
       "99_0          1106.158681  \n",
       "9_0            533.361417  \n",
       "\n",
       "[880 rows x 7 columns]"
      ]
     },
     "execution_count": 7,
     "metadata": {},
     "output_type": "execute_result"
    }
   ],
   "source": [
    "data_use"
   ]
  },
  {
   "cell_type": "markdown",
   "metadata": {},
   "source": [
    "## Pareto frontier"
   ]
  },
  {
   "cell_type": "markdown",
   "metadata": {},
   "source": [
    "However, now we have all the result most of them do not interest us, since we only want the Pareto front. For this we have thw following function, that returns the pareto front"
   ]
  },
  {
   "cell_type": "code",
   "execution_count": 8,
   "metadata": {},
   "outputs": [],
   "source": [
    "from sparsemod.heir import is_pareto_efficient"
   ]
  },
  {
   "cell_type": "code",
   "execution_count": 9,
   "metadata": {},
   "outputs": [],
   "source": [
    "pareto_mask = is_pareto_efficient(data_use.values)\n",
    "pareto_arms = data_use.index[pareto_mask].values"
   ]
  },
  {
   "cell_type": "markdown",
   "metadata": {},
   "source": [
    "We then sort the vlaues, for example, by accuracy"
   ]
  },
  {
   "cell_type": "code",
   "execution_count": 4,
   "metadata": {},
   "outputs": [
    {
     "output_type": "error",
     "ename": "NameError",
     "evalue": "name 'data_use' is not defined",
     "traceback": [
      "\u001b[0;31m---------------------------------------------------------------------------\u001b[0m",
      "\u001b[0;31mNameError\u001b[0m                                 Traceback (most recent call last)",
      "\u001b[0;32m<ipython-input-4-1c4f97ad16ea>\u001b[0m in \u001b[0;36m<module>\u001b[0;34m\u001b[0m\n\u001b[0;32m----> 1\u001b[0;31m \u001b[0mdata_use\u001b[0m\u001b[0;34m[\u001b[0m\u001b[0mpareto_mask\u001b[0m\u001b[0;34m]\u001b[0m\u001b[0;34m.\u001b[0m\u001b[0msort_values\u001b[0m\u001b[0;34m(\u001b[0m\u001b[0mby\u001b[0m \u001b[0;34m=\u001b[0m\u001b[0;34m'error'\u001b[0m\u001b[0;34m)\u001b[0m\u001b[0;34m\u001b[0m\u001b[0;34m\u001b[0m\u001b[0m\n\u001b[0m",
      "\u001b[0;31mNameError\u001b[0m: name 'data_use' is not defined"
     ]
    }
   ],
   "source": [
    "data_use[pareto_mask].sort_values(by ='error')"
   ]
  },
  {
   "cell_type": "markdown",
   "metadata": {},
   "source": [
    "Where we can see that the best model has a total accuracy of accuracy = (1- error) = 1 - 0.441 = 0.559, a model sie of 112KB in 8-bit vlaues, a RAM of 72 KB and a latency of 221 ms."
   ]
  },
  {
   "cell_type": "markdown",
   "metadata": {},
   "source": [
    "### Pareto Front and evolution"
   ]
  },
  {
   "cell_type": "markdown",
   "metadata": {},
   "source": [
    "We can visualize the frontier obtained by Sparse"
   ]
  },
  {
   "cell_type": "code",
   "execution_count": 3,
   "metadata": {},
   "outputs": [
    {
     "output_type": "error",
     "ename": "NameError",
     "evalue": "name 'data_use' is not defined",
     "traceback": [
      "\u001b[0;31m---------------------------------------------------------------------------\u001b[0m",
      "\u001b[0;31mNameError\u001b[0m                                 Traceback (most recent call last)",
      "\u001b[0;32m<ipython-input-3-999968b784b3>\u001b[0m in \u001b[0;36m<module>\u001b[0;34m\u001b[0m\n\u001b[1;32m      1\u001b[0m \u001b[0mplt\u001b[0m\u001b[0;34m.\u001b[0m\u001b[0mfigure\u001b[0m\u001b[0;34m(\u001b[0m\u001b[0mfigsize\u001b[0m\u001b[0;34m=\u001b[0m\u001b[0;34m(\u001b[0m\u001b[0;36m10\u001b[0m\u001b[0;34m,\u001b[0m\u001b[0;36m6\u001b[0m\u001b[0;34m)\u001b[0m\u001b[0;34m)\u001b[0m\u001b[0;34m\u001b[0m\u001b[0;34m\u001b[0m\u001b[0m\n\u001b[1;32m      2\u001b[0m \u001b[0mcm\u001b[0m \u001b[0;34m=\u001b[0m \u001b[0mplt\u001b[0m\u001b[0;34m.\u001b[0m\u001b[0mcm\u001b[0m\u001b[0;34m.\u001b[0m\u001b[0mget_cmap\u001b[0m\u001b[0;34m(\u001b[0m\u001b[0;34m'RdYlBu_r'\u001b[0m\u001b[0;34m)\u001b[0m\u001b[0;34m\u001b[0m\u001b[0;34m\u001b[0m\u001b[0m\n\u001b[0;32m----> 3\u001b[0;31m sc = plt.scatter(1-data_use[pareto_mask].sort_values(by ='accuracy')['accuracy'],\n\u001b[0m\u001b[1;32m      4\u001b[0m          \u001b[0mdata_use\u001b[0m\u001b[0;34m[\u001b[0m\u001b[0mpareto_mask\u001b[0m\u001b[0;34m]\u001b[0m\u001b[0;34m.\u001b[0m\u001b[0msort_values\u001b[0m\u001b[0;34m(\u001b[0m\u001b[0mby\u001b[0m \u001b[0;34m=\u001b[0m\u001b[0;34m'accuracy'\u001b[0m\u001b[0;34m)\u001b[0m\u001b[0;34m[\u001b[0m\u001b[0;34m'real_weight'\u001b[0m\u001b[0;34m]\u001b[0m\u001b[0;34m,\u001b[0m\u001b[0;34m\u001b[0m\u001b[0;34m\u001b[0m\u001b[0m\n\u001b[1;32m      5\u001b[0m            c=data_use[pareto_mask].sort_values(by ='accuracy')['real_ram'], s=40, cmap=cm)\n",
      "\u001b[0;31mNameError\u001b[0m: name 'data_use' is not defined"
     ]
    }
   ],
   "source": [
    "plt.figure(figsize=(10,6))\n",
    "cm = plt.cm.get_cmap('RdYlBu_r')\n",
    "sc = plt.scatter(1-data_use[pareto_mask].sort_values(by ='accuracy')['accuracy'],\n",
    "         data_use[pareto_mask].sort_values(by ='accuracy')['real_weight'],\n",
    "           c=data_use[pareto_mask].sort_values(by ='accuracy')['real_ram'], s=40, cmap=cm)\n",
    "\n",
    "\n",
    "\n",
    "cb = plt.colorbar(sc)\n",
    "cb.ax.tick_params(labelsize=20)\n",
    "cb.ax.set_ylabel(\" RAM (KB)\", fontsize=25)\n",
    "plt.xticks(fontsize=20)\n",
    "plt.yticks(fontsize=20)\n",
    "plt.ylabel(\"Model Size (KB)\", fontsize=25, fontfamily='serif')\n",
    "plt.xlabel(\"Accuracy\", fontsize=25, fontfamily='serif')\n"
   ]
  },
  {
   "cell_type": "markdown",
   "metadata": {},
   "source": [
    "as well as the evolution"
   ]
  },
  {
   "cell_type": "code",
   "execution_count": 12,
   "metadata": {},
   "outputs": [
    {
     "data": {
      "text/plain": [
       "Text(0.5, 0, 'Accuracy')"
      ]
     },
     "execution_count": 12,
     "metadata": {},
     "output_type": "execute_result"
    },
    {
     "data": {
      "image/png": "[encoded data removed]",
      "text/plain": [
       "<Figure size 720x432 with 2 Axes>"
      ]
     },
     "metadata": {
      "needs_background": "light"
     },
     "output_type": "display_data"
    }
   ],
   "source": [
    "data_use['arm'] = data_use.index\n",
    "data_use['arm'] = data_use['arm'].apply(lambda x: int(x.split(\"_\")[0]))\n",
    "data_use.sort_values(by='arm')\n",
    "\n",
    "plt.figure(figsize=(10,6))\n",
    "cm = plt.cm.get_cmap('RdYlBu_r')\n",
    "sc = plt.scatter(1 - data_use.sort_values(by='arm')['accuracy'],\n",
    "         data_use.sort_values(by='arm')['real_weight'],\n",
    "           c=range(len(data_use.sort_values(by='arm'))), s=40, cmap=cm)\n",
    "\n",
    "\n",
    "\n",
    "cb = plt.colorbar(sc)\n",
    "cb.ax.tick_params(labelsize=20)\n",
    "cb.ax.set_ylabel(\" Evaluation Step\", fontsize=25, fontfamily='serif')\n",
    "plt.xticks(fontsize=20)\n",
    "plt.yticks(fontsize=20)\n",
    "plt.ylabel(\"Model Size (KB)\", fontsize=25, fontfamily='serif')\n",
    "plt.xlabel(\"Accuracy\", fontsize=25, fontfamily='serif')\n"
   ]
  },
  {
   "cell_type": "markdown",
   "metadata": {},
   "source": [
    "# Inspecting an arm"
   ]
  },
  {
   "cell_type": "markdown",
   "metadata": {},
   "source": [
    "In the performance lookup we saw that the bet arm was `749_0`. As we want the specific configuration to build the network we need to observe the specific parameters. For this we have to load a Sparse experiment. in `./cnn_cost_example/read_experiment/` a function has been built for that purpose"
   ]
  },
  {
   "cell_type": "code",
   "execution_count": 13,
   "metadata": {},
   "outputs": [
    {
     "name": "stdout",
     "output_type": "stream",
     "text": [
      "[('__call__', <function LevelMapper.__call__ at 0x7fbe43643c20>), ('__init__', <function LevelMapper.__init__ at 0x7fbe43643b90>)]\n",
      "[('__call__', <function BalancedPositiveNegativeSampler.__call__ at 0x7fbe435924d0>), ('__init__', <function BalancedPositiveNegativeSampler.__init__ at 0x7fbe43592440>)]\n",
      "[('__init__', <function BoxCoder.__init__ at 0x7fbe43599cb0>), ('decode', <function BoxCoder.decode at 0x7fbe43599e60>), ('decode_single', <function BoxCoder.decode_single at 0x7fbe43599ef0>), ('encode', <function BoxCoder.encode at 0x7fbe43599d40>), ('encode_single', <function BoxCoder.encode_single at 0x7fbe43599dd0>)]\n",
      "[('__call__', <function Matcher.__call__ at 0x7fbe43599c20>), ('__init__', <function Matcher.__init__ at 0x7fbe43599a70>), ('set_low_quality_matches_', <function Matcher.set_low_quality_matches_ at 0x7fbe43599b90>)]\n",
      "[('__init__', <function ImageList.__init__ at 0x7fbe4358f050>), ('to', <function ImageList.to at 0x7fbe4358f0e0>)]\n",
      "[('__init__', <function Timebase.__init__ at 0x7fbe4337b440>)]\n",
      "[('__init__', <function VideoMetaData.__init__ at 0x7fbe4337b5f0>)]\n"
     ]
    }
   ],
   "source": [
    "from read_experiment import load_experiment"
   ]
  },
  {
   "cell_type": "code",
   "execution_count": 14,
   "metadata": {},
   "outputs": [
    {
     "ename": "AttributeError",
     "evalue": "'SparseExperiment' object has no attribute 'cuda'",
     "output_type": "error",
     "traceback": [
      "\u001b[0;31m---------------------------------------------------------------------------\u001b[0m",
      "\u001b[0;31mAttributeError\u001b[0m                            Traceback (most recent call last)",
      "\u001b[0;32m<ipython-input-14-4fe35f5be4a0>\u001b[0m in \u001b[0;36m<module>\u001b[0;34m\u001b[0m\n\u001b[0;32m----> 1\u001b[0;31m \u001b[0mexp\u001b[0m\u001b[0;34m,\u001b[0m \u001b[0mdata\u001b[0m \u001b[0;34m=\u001b[0m \u001b[0mload_experiment\u001b[0m\u001b[0;34m(\u001b[0m\u001b[0mdata_folder\u001b[0m\u001b[0;34m=\u001b[0m\u001b[0;34m\"../data/data_cost/files\"\u001b[0m\u001b[0;34m)\u001b[0m\u001b[0;34m\u001b[0m\u001b[0;34m\u001b[0m\u001b[0m\n\u001b[0m",
      "\u001b[0;32m~/Documents/projects/sparse/SpArSe/examples/cnn_cost_example/read_experiment.py\u001b[0m in \u001b[0;36mload_experiment\u001b[0;34m(data_folder)\u001b[0m\n\u001b[1;32m     46\u001b[0m         \u001b[0mmodels_path\u001b[0m \u001b[0;34m=\u001b[0m\u001b[0mpath\u001b[0m\u001b[0;34m.\u001b[0m\u001b[0mjoin\u001b[0m\u001b[0;34m(\u001b[0m\u001b[0margs\u001b[0m\u001b[0;34m[\u001b[0m\u001b[0;34m\"ROOT\"\u001b[0m\u001b[0;34m]\u001b[0m\u001b[0;34m,\u001b[0m \u001b[0;34m\"models\"\u001b[0m\u001b[0;34m)\u001b[0m\u001b[0;34m\u001b[0m\u001b[0;34m\u001b[0m\u001b[0m\n\u001b[1;32m     47\u001b[0m     )\n\u001b[0;32m---> 48\u001b[0;31m     \u001b[0mexp\u001b[0m\u001b[0;34m,\u001b[0m \u001b[0mdata\u001b[0m \u001b[0;34m=\u001b[0m \u001b[0msparse_exp\u001b[0m\u001b[0;34m.\u001b[0m\u001b[0mcreate_load_experiment\u001b[0m\u001b[0;34m(\u001b[0m\u001b[0;34m)\u001b[0m\u001b[0;34m\u001b[0m\u001b[0;34m\u001b[0m\u001b[0m\n\u001b[0m\u001b[1;32m     49\u001b[0m     \u001b[0;32mreturn\u001b[0m \u001b[0mexp\u001b[0m\u001b[0;34m,\u001b[0m \u001b[0mdata\u001b[0m\u001b[0;34m\u001b[0m\u001b[0;34m\u001b[0m\u001b[0m\n\u001b[1;32m     50\u001b[0m \u001b[0;34m\u001b[0m\u001b[0m\n",
      "\u001b[0;32m~/anaconda3/envs/sparse/lib/python3.7/site-packages/sparsemod/utils_experiment.py\u001b[0m in \u001b[0;36mcreate_load_experiment\u001b[0;34m(self)\u001b[0m\n\u001b[1;32m     59\u001b[0m             \u001b[0mexp\u001b[0m\u001b[0;34m.\u001b[0m\u001b[0mattach_data\u001b[0m\u001b[0;34m(\u001b[0m\u001b[0mdata\u001b[0m\u001b[0;34m)\u001b[0m\u001b[0;34m\u001b[0m\u001b[0;34m\u001b[0m\u001b[0m\n\u001b[1;32m     60\u001b[0m         \u001b[0;32melse\u001b[0m\u001b[0;34m:\u001b[0m\u001b[0;34m\u001b[0m\u001b[0;34m\u001b[0m\u001b[0m\n\u001b[0;32m---> 61\u001b[0;31m             \u001b[0mexp\u001b[0m \u001b[0;34m=\u001b[0m \u001b[0mself\u001b[0m\u001b[0;34m.\u001b[0m\u001b[0mget_experiment\u001b[0m\u001b[0;34m(\u001b[0m\u001b[0;34m)\u001b[0m\u001b[0;34m\u001b[0m\u001b[0;34m\u001b[0m\u001b[0m\n\u001b[0m\u001b[1;32m     62\u001b[0m             \u001b[0mdata\u001b[0m \u001b[0;34m=\u001b[0m \u001b[0mData\u001b[0m\u001b[0;34m(\u001b[0m\u001b[0;34m)\u001b[0m\u001b[0;34m\u001b[0m\u001b[0;34m\u001b[0m\u001b[0m\n\u001b[1;32m     63\u001b[0m         \u001b[0;32mreturn\u001b[0m \u001b[0mexp\u001b[0m\u001b[0;34m,\u001b[0m \u001b[0mdata\u001b[0m\u001b[0;34m\u001b[0m\u001b[0;34m\u001b[0m\u001b[0m\n",
      "\u001b[0;32m~/anaconda3/envs/sparse/lib/python3.7/site-packages/sparsemod/utils_experiment.py\u001b[0m in \u001b[0;36mget_experiment\u001b[0;34m(self)\u001b[0m\n\u001b[1;32m     78\u001b[0m                 \u001b[0msplitter\u001b[0m\u001b[0;34m=\u001b[0m\u001b[0mself\u001b[0m\u001b[0;34m.\u001b[0m\u001b[0msplitter\u001b[0m\u001b[0;34m,\u001b[0m\u001b[0;34m\u001b[0m\u001b[0;34m\u001b[0m\u001b[0m\n\u001b[1;32m     79\u001b[0m                 \u001b[0mmodels_path\u001b[0m\u001b[0;34m=\u001b[0m\u001b[0mself\u001b[0m\u001b[0;34m.\u001b[0m\u001b[0mmodels_path\u001b[0m\u001b[0;34m,\u001b[0m\u001b[0;34m\u001b[0m\u001b[0;34m\u001b[0m\u001b[0m\n\u001b[0;32m---> 80\u001b[0;31m                 \u001b[0mcuda\u001b[0m\u001b[0;34m=\u001b[0m\u001b[0mself\u001b[0m\u001b[0;34m.\u001b[0m\u001b[0mcuda\u001b[0m\u001b[0;34m,\u001b[0m\u001b[0;34m\u001b[0m\u001b[0;34m\u001b[0m\u001b[0m\n\u001b[0m\u001b[1;32m     81\u001b[0m             ),\n\u001b[1;32m     82\u001b[0m             WeightMetric(\n",
      "\u001b[0;31mAttributeError\u001b[0m: 'SparseExperiment' object has no attribute 'cuda'"
     ]
    }
   ],
   "source": [
    "exp, data = load_experiment(data_folder=\"../data/data_cost/files\")"
   ]
  },
  {
   "cell_type": "code",
   "execution_count": null,
   "metadata": {},
   "outputs": [],
   "source": [
    "exp.arms_by_name['779_0']"
   ]
  }
 ],
 "metadata": {
  "kernelspec": {
   "display_name": "Python 3",
   "language": "python",
   "name": "python3"
  },
  "language_info": {
   "codemirror_mode": {
    "name": "ipython",
    "version": 3
   },
   "file_extension": ".py",
   "mimetype": "text/x-python",
   "name": "python",
   "nbconvert_exporter": "python",
   "pygments_lexer": "ipython3",
   "version": "3.7.7-final"
  }
 },
 "nbformat": 4,
 "nbformat_minor": 4
}